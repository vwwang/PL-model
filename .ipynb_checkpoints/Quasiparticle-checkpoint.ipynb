{
 "cells": [
  {
   "cell_type": "code",
   "execution_count": null,
   "metadata": {},
   "outputs": [],
   "source": [
    "import ipywidgets as widgets\n",
    "import sys\n",
    "!git clone https://github.com/vwwang/PL-model.git\n",
    "sys.path.insert(0, 'PL-model/')\n",
    "from quasi_fit import quasi\n",
    "widgets.interact(quasi, \n",
    "         Cbx = widgets.FloatText(value=0.06,description='Cbx (cm^2/s):',disabled=False),\n",
    "         tXr = widgets.FloatText(value=1.9*10**-9,description='tXr (s):',disabled=False),\n",
    "         tTr = widgets.FloatText(value=1*10**-6,description='tTr (s):',disabled=False),\n",
    "         tTnr = widgets.FloatText(value=1*10**-9,description='tTnr (s):',disabled=False),\n",
    "         T = widgets.FloatText(value=3.5*10**-10,description='T(cm^2):',disabled=False),\n",
    "         Nb = widgets.FloatText(value=2*10**10,description='N (cm^-2):',disabled=False));"
   ]
  }
 ],
 "metadata": {
  "kernelspec": {
   "display_name": "Python 3",
   "language": "python",
   "name": "python3"
  },
  "language_info": {
   "codemirror_mode": {
    "name": "ipython",
    "version": 3
   },
   "file_extension": ".py",
   "mimetype": "text/x-python",
   "name": "python",
   "nbconvert_exporter": "python",
   "pygments_lexer": "ipython3",
   "version": "3.6.5"
  }
 },
 "nbformat": 4,
 "nbformat_minor": 2
}
