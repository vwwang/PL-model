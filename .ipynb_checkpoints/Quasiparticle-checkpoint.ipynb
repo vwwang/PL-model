{
 "cells": [
  {
   "cell_type": "code",
   "execution_count": 6,
   "metadata": {},
   "outputs": [
    {
     "data": {
      "application/javascript": [
       "<script>\n",
       "code_show=true; \n",
       "function code_toggle() {\n",
       " if (code_show){\n",
       " $('div.input').hide();\n",
       " } else {\n",
       " $('div.input').show();\n",
       " }\n",
       " code_show = !code_show\n",
       "} \n",
       "$( document ).ready(code_toggle);\n",
       "</script>\n",
       "<form action=\"javascript:code_toggle()\"><input type=\"submit\" value=\"Click here to toggle on/off the raw code.\"></form>\n"
      ],
      "text/plain": [
       "<IPython.core.display.Javascript object>"
      ]
     },
     "metadata": {},
     "output_type": "display_data"
    }
   ],
   "source": [
    "import IPython\n",
    "js_code = '''<script>\n",
    "code_show=true; \n",
    "function code_toggle() {\n",
    " if (code_show){\n",
    " $('div.input').hide();\n",
    " } else {\n",
    " $('div.input').show();\n",
    " }\n",
    " code_show = !code_show\n",
    "} \n",
    "$( document ).ready(code_toggle);\n",
    "</script>\n",
    "<form action=\"javascript:code_toggle()\"><input type=\"submit\" value=\"Click here to toggle on/off the raw code.\"></form>\n",
    "'''\n",
    "display(IPython.display.Javascript(js_code))"
   ]
  },
  {
   "cell_type": "code",
   "execution_count": 3,
   "metadata": {
    "scrolled": false
   },
   "outputs": [
    {
     "data": {
      "application/vnd.jupyter.widget-view+json": {
       "model_id": "d0f1ba263b34438b82537603d98a4807",
       "version_major": 2,
       "version_minor": 0
      },
      "text/plain": [
       "interactive(children=(FloatText(value=0.06, description='Cbx (cm^2/s):'), FloatText(value=1.9e-09, description…"
      ]
     },
     "metadata": {},
     "output_type": "display_data"
    }
   ],
   "source": [
    "#!/usr/bin/python\n",
    "# -*- coding: UTF-8 -*-\n",
    "import ipywidgets as widgets\n",
    "from ipywidgets import interact\n",
    "import numpy as np\n",
    "import matplotlib.pyplot as plt\n",
    "\n",
    "def quasi(Cbx,tXr,T,tTnr,tTr,Nb):   #quasi is for interact function at the end\n",
    "    G = []\n",
    "    NxY = []\n",
    "    Ghigh = 110        #high bound of Generation rate 10^(Ghighx0.2)\n",
    "    Glow = 75          #low bound of Generation rate 10^(Glowx0.2)\n",
    "    Nxh = [8*10**14]   #high bound of exciton concentration used for brute force algorism\n",
    "    Nxl = [0]          #lwo bound of exciton concentration used for brute force algorism\n",
    "    tT = 1/(1/tTnr+1/tTr)\n",
    "    Generation = [10**(0.2*p) for p in range(Glow,Ghigh)]\n",
    "    \n",
    "    for g in range(len(Generation)):    #start of brute force for getting exciton concentration\n",
    "        for i in range(20):\n",
    "            Nx = [t for t in np.arange(Nxl[0], Nxh[0], (Nxh[0] - Nxl[0])/10)]\n",
    "            Nx.append(Nxh[0])\n",
    "            EValue = [t/tXr+t*t*Cbx+(T*t/(1+T*t))*(Nb/tT) - Generation[g] for t in Nx]\n",
    "            abEValue = [abs(t) for t in EValue]\n",
    "            minindex = [np.argmin(abEValue)]\n",
    "            if minindex[0] == 10:\n",
    "                Nxh = [Nxh[0]]\n",
    "                Nxl = [Nxl[0] + (minindex[0]-1) * (Nxh[0] - Nxl[0]) / 10]\n",
    "            elif minindex[0] == 0:\n",
    "                Nxh = [Nxl[0] + (minindex[0]+1) * (Nxh[0] - Nxl[0]) / 10]\n",
    "                Nxl = [Nxl[0]]\n",
    "            else:\n",
    "                Nxh = [Nxl[0] + (minindex[0] + 1) * (Nxh[0] - Nxl[0]) / 10]\n",
    "                Nxl = [Nxl[0] + minindex[0] * (Nxh[0] - Nxl[0]) / 10]\n",
    "\n",
    "        NxY.append(Nx[minindex[0]])\n",
    "        Nxh = [8 * 10 ** 14]\n",
    "        Nxl = [0]\n",
    "    QY = [(NxY[i]/tXr+(T*NxY[i]*Nb/(1+T*NxY[i])/tTr))/Generation[i]*100 for i in range(len(NxY))]\n",
    "    plt.figure(figsize=(11, 5))\n",
    "    plt.subplot(121)\n",
    "    plt.plot(Generation, QY, 'go', markersize=5)\n",
    "    plt.yscale('log')\n",
    "    plt.ylim(0.01, 100)\n",
    "    plt.xscale('log')\n",
    "    plt.xlabel('Generation rate (cm^-2)', size = 15)\n",
    "    plt.ylabel('PL QY (%)', size = 15);\n",
    "    \n",
    "    RXr = [NxY[i]/tXr for i in range(len(NxY))]\n",
    "    RXX = [NxY[i]*NxY[i]*Cbx for i in range(len(NxY))]\n",
    "    RTr = [(T*NxY[i]*Nb/(1+T*NxY[i])/tTr) for i in range(len(NxY))]\n",
    "    RTnr = [(T*NxY[i]*Nb/(1+T*NxY[i])/tTnr) for i in range(len(NxY))]\n",
    "    plt.subplot(122)\n",
    "    plt.plot(Generation, RXr, 'rs', label = 'Xr')\n",
    "    plt.plot(Generation, RXX, 'r--', label = 'XX')\n",
    "    plt.plot(Generation, RTr, 'bs',label = 'Tr')\n",
    "    plt.plot(Generation, RTnr, 'b--', label = 'Tnr')\n",
    "    plt.yscale('log')\n",
    "    plt.xscale('log')\n",
    "    plt.xlabel('Generation rate (cm^-2)', size = 15)\n",
    "    plt.ylabel('Recombination rate (cm^-2)', size = 15)\n",
    "    plt.legend(framealpha=1, frameon=True, prop={'size': 13});\n",
    "    \n",
    "interact(quasi, Cbx = widgets.FloatText(\n",
    "    value=0.06,\n",
    "    description='Cbx (cm^2/s):',\n",
    "    disabled=False),\n",
    "        tXr = widgets.FloatText(\n",
    "    value=1.9*10**-9,\n",
    "    description='tXr (s):',\n",
    "    disabled=False),\n",
    "        tTr = widgets.FloatText(\n",
    "    value=1*10**-6,\n",
    "    description='tTr (s):',\n",
    "    disabled=False),\n",
    "        tTnr = widgets.FloatText(\n",
    "    value=1*10**-9,\n",
    "    description='tTnr (s):',\n",
    "    disabled=False),\n",
    "        T = widgets.FloatText(\n",
    "    value=3.5*10**-10,\n",
    "    description='T(cm^2):',\n",
    "    disabled=False),\n",
    "        Nb = widgets.FloatText(\n",
    "    value=2*10**10,\n",
    "    description='N (cm^-2):',\n",
    "    disabled=False));"
   ]
  },
  {
   "cell_type": "code",
   "execution_count": null,
   "metadata": {},
   "outputs": [],
   "source": []
  }
 ],
 "metadata": {
  "kernelspec": {
   "display_name": "Python 3",
   "language": "python",
   "name": "python3"
  },
  "language_info": {
   "codemirror_mode": {
    "name": "ipython",
    "version": 3
   },
   "file_extension": ".py",
   "mimetype": "text/x-python",
   "name": "python",
   "nbconvert_exporter": "python",
   "pygments_lexer": "ipython3",
   "version": "3.6.5"
  }
 },
 "nbformat": 4,
 "nbformat_minor": 2
}
