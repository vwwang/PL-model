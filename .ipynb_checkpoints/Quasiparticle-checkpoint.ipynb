{
 "cells": [
  {
   "cell_type": "code",
   "execution_count": 1,
   "metadata": {},
   "outputs": [],
   "source": [
    "import ipywidgets as widgets\n",
    "from ipywidgets import interact\n",
    "from quasi_fit import quasi"
   ]
  },
  {
   "cell_type": "code",
   "execution_count": 2,
   "metadata": {
    "scrolled": false
   },
   "outputs": [
    {
     "data": {
      "application/vnd.jupyter.widget-view+json": {
       "model_id": "705207f8bdbe45e5963f08421d9a0ac8",
       "version_major": 2,
       "version_minor": 0
      },
      "text/plain": [
       "interactive(children=(FloatText(value=0.06, description='Cbx (cm^2/s):'), FloatText(value=1.9e-09, description…"
      ]
     },
     "metadata": {},
     "output_type": "display_data"
    }
   ],
   "source": [
    "interact(quasi, Cbx = widgets.FloatText(value=0.06,description='Cbx (cm^2/s):',disabled=False),\n",
    "         tXr = widgets.FloatText(value=1.9*10**-9,description='tXr (s):',disabled=False),\n",
    "         tTr = widgets.FloatText(value=1*10**-6,description='tTr (s):',disabled=False),\n",
    "         tTnr = widgets.FloatText(value=1*10**-9,description='tTnr (s):',disabled=False),\n",
    "         T = widgets.FloatText(value=3.5*10**-10,description='T(cm^2):',disabled=False),\n",
    "         Nb = widgets.FloatText(value=2*10**10,description='N (cm^-2):',disabled=False));"
   ]
  },
  {
   "cell_type": "code",
   "execution_count": null,
   "metadata": {},
   "outputs": [],
   "source": []
  }
 ],
 "metadata": {
  "kernelspec": {
   "display_name": "Python 3",
   "language": "python",
   "name": "python3"
  },
  "language_info": {
   "codemirror_mode": {
    "name": "ipython",
    "version": 3
   },
   "file_extension": ".py",
   "mimetype": "text/x-python",
   "name": "python",
   "nbconvert_exporter": "python",
   "pygments_lexer": "ipython3",
   "version": "3.6.5"
  }
 },
 "nbformat": 4,
 "nbformat_minor": 2
}
